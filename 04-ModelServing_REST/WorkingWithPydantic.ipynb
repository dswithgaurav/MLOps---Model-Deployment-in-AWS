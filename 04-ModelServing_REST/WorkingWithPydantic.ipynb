{
 "cells": [
  {
   "cell_type": "markdown",
   "id": "e7e0c261",
   "metadata": {},
   "source": [
    "### Pydantic Examples"
   ]
  },
  {
   "cell_type": "code",
   "execution_count": 21,
   "id": "e8c0054f",
   "metadata": {},
   "outputs": [],
   "source": [
    "from pydantic import BaseModel, PositiveInt\n",
    "from datetime import datetime\n",
    "\n",
    "\n",
    "from pydantic import ValidationError"
   ]
  },
  {
   "cell_type": "code",
   "execution_count": 3,
   "id": "92b29f4a",
   "metadata": {},
   "outputs": [],
   "source": [
    "class User(BaseModel):\n",
    "    id: int\n",
    "    name: str\n",
    "    signup: datetime | None\n",
    "    tastes: dict[str, PositiveInt]"
   ]
  },
  {
   "cell_type": "code",
   "execution_count": 18,
   "id": "117b1315",
   "metadata": {},
   "outputs": [],
   "source": [
    "external_data = {\n",
    "    \"id\": 123,\n",
    "    \"name\": \"John Doe\",\n",
    "    \"signup\": \"2023-10-01 12:10\",\n",
    "    \"tastes\": {\n",
    "        \"spicy\": 5,\n",
    "        \"sweet\": 3,\n",
    "        'hello' : '10'\n",
    "    }\n",
    "}"
   ]
  },
  {
   "cell_type": "code",
   "execution_count": 19,
   "id": "87d94ead",
   "metadata": {},
   "outputs": [],
   "source": [
    "user = User(**external_data)"
   ]
  },
  {
   "cell_type": "code",
   "execution_count": 20,
   "id": "dc58e6c6",
   "metadata": {},
   "outputs": [
    {
     "data": {
      "text/plain": [
       "{'id': 123,\n",
       " 'name': 'John Doe',\n",
       " 'signup': datetime.datetime(2023, 10, 1, 12, 10),\n",
       " 'tastes': {'spicy': 5, 'sweet': 3, 'hello': 10}}"
      ]
     },
     "execution_count": 20,
     "metadata": {},
     "output_type": "execute_result"
    }
   ],
   "source": [
    "user.model_dump()"
   ]
  },
  {
   "cell_type": "code",
   "execution_count": null,
   "id": "8ea7624f",
   "metadata": {},
   "outputs": [],
   "source": []
  }
 ],
 "metadata": {
  "kernelspec": {
   "display_name": "mlops",
   "language": "python",
   "name": "python3"
  },
  "language_info": {
   "codemirror_mode": {
    "name": "ipython",
    "version": 3
   },
   "file_extension": ".py",
   "mimetype": "text/x-python",
   "name": "python",
   "nbconvert_exporter": "python",
   "pygments_lexer": "ipython3",
   "version": "3.11.11"
  }
 },
 "nbformat": 4,
 "nbformat_minor": 5
}
